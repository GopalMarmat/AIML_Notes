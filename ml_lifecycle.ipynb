{
 "cells": [
  {
   "cell_type": "markdown",
   "id": "d9a1fe8f",
   "metadata": {},
   "source": [
    "## ML LifeCycle"
   ]
  },
  {
   "cell_type": "markdown",
   "id": "b5e62c1e",
   "metadata": {},
   "source": [
    "### Data Preprocessing:\n",
    "#### Clean the dataset using pandas and numpy like handling missing values and outliers."
   ]
  },
  {
   "cell_type": "code",
   "execution_count": null,
   "id": "110b6fa4",
   "metadata": {},
   "outputs": [],
   "source": []
  }
 ],
 "metadata": {
  "language_info": {
   "name": "python"
  }
 },
 "nbformat": 4,
 "nbformat_minor": 5
}
