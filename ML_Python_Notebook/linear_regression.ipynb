{
 "cells": [
  {
   "cell_type": "markdown",
   "id": "88093ca4",
   "metadata": {},
   "source": [
    "# Machine Learning"
   ]
  },
  {
   "cell_type": "markdown",
   "id": "1807dd67",
   "metadata": {},
   "source": [
    "## Supervised Machine Learning"
   ]
  },
  {
   "cell_type": "markdown",
   "id": "b5b3f2c7",
   "metadata": {},
   "source": [
    "## Linear Regression\n",
    "Linear Regression is a supervised machine learning algorithm used for predicting a continuous target variable based on one or more independent features by fitting a linear equation to the data."
   ]
  },
  {
   "cell_type": "markdown",
   "id": "70e0be14",
   "metadata": {},
   "source": [
    "## Equation of Linear Regression"
   ]
  },
  {
   "cell_type": "markdown",
   "id": "efff28c1",
   "metadata": {},
   "source": [
    "### Simple Linear Regression (one independent variable): Single Dependent and Single Independent\n",
    "y=β0+β1x+ε\n",
    "\n",
    "Where:\n",
    "   y: Dependent variable (target)\n",
    "\n",
    "   x: Independent variable (feature)\n",
    "   \n",
    "   β0: Intercept\n",
    "   \n",
    "   β1: Slope or coefficient\n",
    "   \n",
    "   𝜀: Error term (residual)\n",
    "\n",
    "### Multiple Linear Regression (multiple features): Single Dependent and Multiple Independent\n",
    "𝑦=𝛽0+𝛽1𝑥1+𝛽2𝑥2+...+𝛽𝑛𝑥𝑛+𝜀"
   ]
  },
  {
   "cell_type": "markdown",
   "id": "9c228a7a",
   "metadata": {},
   "source": [
    "## Assumptions of Linear Regression\n",
    "Linearity: The relationship between features and target is linear.\n",
    "\n",
    "Independence: Observations are independent.\n",
    "\n",
    "Homoscedasticity: Constant variance of errors.\n",
    "\n",
    "Normality of Errors: Errors are normally distributed.\n",
    "\n",
    "No Multicollinearity: Independent variables are not highly correlated."
   ]
  },
  {
   "cell_type": "markdown",
   "id": "614364b9",
   "metadata": {},
   "source": [
    "## Metrics to Evaluate Linear Regression\n",
    "Mean Absolute Error (MAE):It is Avg difference between predicted and actual value. \n",
    "\n",
    "Mean Squared Error (MSE): It is Squared of Avg difference between predicted and actual value.\n",
    "\n",
    "Root Mean Squared Error (RMSE): It is Root of Squared of Avg difference between predicted and actual value.\n",
    "\n",
    "R-squared (R²):It is Variance Between Predicted and Actual value."
   ]
  },
  {
   "cell_type": "markdown",
   "id": "a11986e6",
   "metadata": {},
   "source": [
    "## Real-world Use Cases\n",
    "Predicting house prices\n",
    "\n",
    "Forecasting sales\n",
    "\n",
    "Estimating salary based on experience\n",
    "\n",
    "Stock price estimation (basic form)\n",
    "\n",
    "Energy consumption prediction"
   ]
  },
  {
   "cell_type": "markdown",
   "id": "881ef2ab",
   "metadata": {},
   "source": [
    "## Linear Regression Fails\n",
    "Non-linear data: Use Polynomial Regression or other models.\n",
    "\n",
    "Multicollinearity: Use Ridge or Lasso Regression.\n",
    "\n",
    "Outliers: Can distort the model heavily. Consider using Robust Regression"
   ]
  },
  {
   "cell_type": "markdown",
   "id": "495a8c7f",
   "metadata": {},
   "source": [
    "## Model Parameter"
   ]
  },
  {
   "cell_type": "markdown",
   "id": "c99392e7",
   "metadata": {},
   "source": [
    "| Parameter       | Type | Default | Description                                 |\n",
    "| --------------- | ---- | ------- | ------------------------------------------- |\n",
    "| `fit_intercept` | bool | True    | Whether to calculate intercept $\\beta_0$    |\n",
    "| `normalize`     | bool | -       | **Deprecated** – used to normalize features |\n",
    "| `copy_X`        | bool | True    | Whether to copy input X or overwrite        |\n",
    "| `n_jobs`        | int  | None    | Number of CPUs to use during training       |\n"
   ]
  },
  {
   "cell_type": "markdown",
   "id": "f660e679",
   "metadata": {},
   "source": [
    "## ML LifeCycle"
   ]
  },
  {
   "cell_type": "markdown",
   "id": "1d3748a3",
   "metadata": {},
   "source": [
    "### Data Preprocessing:\n",
    "#### Clean the dataset using pandas and numpy like handling missing values and outliers.\n",
    "### EDA:\n",
    "#### Perfrom Exploratory data analysis to find trends and patterns, Which help to create new during feature engineering and data cleaning if needed\n",
    "### Feature Engineering\n",
    "#### Create New Using existing dataset which helps to predict dependent variable.\n",
    "### Feature Selection:\n",
    "#### Select most important and meaning full feature/column which helps to predict the regression and classification\n",
    "### Model Selection\n",
    "### HyperParameter Tunning\n",
    "### Model Building\n",
    "### Model Deployment"
   ]
  },
  {
   "cell_type": "code",
   "execution_count": 3,
   "id": "368aa5a8",
   "metadata": {},
   "outputs": [],
   "source": [
    "from sklearn.linear_model import LinearRegression\n",
    "import pandas as pd\n",
    "\n",
    "lr_model=LinearRegression(fit_intercept=True)"
   ]
  },
  {
   "cell_type": "code",
   "execution_count": 13,
   "id": "039d4fd0",
   "metadata": {},
   "outputs": [],
   "source": [
    "df=pd.read_csv(\"Walmart_Sales.csv\")"
   ]
  },
  {
   "cell_type": "code",
   "execution_count": 14,
   "id": "7af2fdb1",
   "metadata": {},
   "outputs": [
    {
     "data": {
      "text/html": [
       "<div>\n",
       "<style scoped>\n",
       "    .dataframe tbody tr th:only-of-type {\n",
       "        vertical-align: middle;\n",
       "    }\n",
       "\n",
       "    .dataframe tbody tr th {\n",
       "        vertical-align: top;\n",
       "    }\n",
       "\n",
       "    .dataframe thead th {\n",
       "        text-align: right;\n",
       "    }\n",
       "</style>\n",
       "<table border=\"1\" class=\"dataframe\">\n",
       "  <thead>\n",
       "    <tr style=\"text-align: right;\">\n",
       "      <th></th>\n",
       "      <th>Store</th>\n",
       "      <th>Date</th>\n",
       "      <th>Weekly_Sales</th>\n",
       "      <th>Holiday_Flag</th>\n",
       "      <th>Temperature</th>\n",
       "      <th>Fuel_Price</th>\n",
       "      <th>CPI</th>\n",
       "      <th>Unemployment</th>\n",
       "    </tr>\n",
       "  </thead>\n",
       "  <tbody>\n",
       "    <tr>\n",
       "      <th>0</th>\n",
       "      <td>1</td>\n",
       "      <td>05-02-2010</td>\n",
       "      <td>1643690.90</td>\n",
       "      <td>0</td>\n",
       "      <td>42.31</td>\n",
       "      <td>2.572</td>\n",
       "      <td>211.096358</td>\n",
       "      <td>8.106</td>\n",
       "    </tr>\n",
       "    <tr>\n",
       "      <th>1</th>\n",
       "      <td>1</td>\n",
       "      <td>12-02-2010</td>\n",
       "      <td>1641957.44</td>\n",
       "      <td>1</td>\n",
       "      <td>38.51</td>\n",
       "      <td>2.548</td>\n",
       "      <td>211.242170</td>\n",
       "      <td>8.106</td>\n",
       "    </tr>\n",
       "  </tbody>\n",
       "</table>\n",
       "</div>"
      ],
      "text/plain": [
       "   Store        Date  Weekly_Sales  Holiday_Flag  Temperature  Fuel_Price  \\\n",
       "0      1  05-02-2010    1643690.90             0        42.31       2.572   \n",
       "1      1  12-02-2010    1641957.44             1        38.51       2.548   \n",
       "\n",
       "          CPI  Unemployment  \n",
       "0  211.096358         8.106  \n",
       "1  211.242170         8.106  "
      ]
     },
     "execution_count": 14,
     "metadata": {},
     "output_type": "execute_result"
    }
   ],
   "source": [
    "df.head(2)"
   ]
  },
  {
   "cell_type": "code",
   "execution_count": 15,
   "id": "3af43b6c",
   "metadata": {},
   "outputs": [
    {
     "data": {
      "text/plain": [
       "Store           0\n",
       "Date            0\n",
       "Weekly_Sales    0\n",
       "Holiday_Flag    0\n",
       "Temperature     0\n",
       "Fuel_Price      0\n",
       "CPI             0\n",
       "Unemployment    0\n",
       "dtype: int64"
      ]
     },
     "execution_count": 15,
     "metadata": {},
     "output_type": "execute_result"
    }
   ],
   "source": [
    "df.isnull().sum()"
   ]
  },
  {
   "cell_type": "code",
   "execution_count": 16,
   "id": "635fe805",
   "metadata": {},
   "outputs": [],
   "source": [
    "#df[\"Date\"]=pd.to_datetime(df[\"Date\"],errors='coerce')"
   ]
  },
  {
   "cell_type": "code",
   "execution_count": 26,
   "id": "d1dc4135",
   "metadata": {},
   "outputs": [],
   "source": [
    "X=df\n",
    "X=X.drop([\"Weekly_Sales\",\"Date\"],axis=1)\n",
    "y=df[\"Weekly_Sales\"]#Dependet Variable"
   ]
  },
  {
   "cell_type": "code",
   "execution_count": 27,
   "id": "2f068c22",
   "metadata": {},
   "outputs": [],
   "source": [
    "from sklearn.model_selection import train_test_split\n",
    "\n",
    "x_train,x_test,y_train,y_test=train_test_split(X,y,test_size=0.2,random_state=42)"
   ]
  },
  {
   "cell_type": "code",
   "execution_count": 28,
   "id": "0492ba9e",
   "metadata": {},
   "outputs": [
    {
     "name": "stdout",
     "output_type": "stream",
     "text": [
      "5148\n",
      "1287\n"
     ]
    }
   ],
   "source": [
    "print(len(x_train))\n",
    "print(len(x_test))\n"
   ]
  },
  {
   "cell_type": "code",
   "execution_count": null,
   "id": "917ec98b",
   "metadata": {},
   "outputs": [],
   "source": [
    "predict=lr_model.fit(x_train,y_train)"
   ]
  },
  {
   "cell_type": "code",
   "execution_count": 32,
   "id": "86ab5f31",
   "metadata": {},
   "outputs": [
    {
     "name": "stdout",
     "output_type": "stream",
     "text": [
      "523884.7404541007\n"
     ]
    }
   ],
   "source": [
    "from sklearn.metrics import root_mean_squared_error\n",
    "y_pred=lr_model.predict(x_test)\n",
    "model_rmse=root_mean_squared_error(y_test,y_pred)\n",
    "print(model_rmse)"
   ]
  },
  {
   "cell_type": "code",
   "execution_count": null,
   "id": "04c369eb",
   "metadata": {},
   "outputs": [],
   "source": []
  }
 ],
 "metadata": {
  "kernelspec": {
   "display_name": "Python 3",
   "language": "python",
   "name": "python3"
  },
  "language_info": {
   "codemirror_mode": {
    "name": "ipython",
    "version": 3
   },
   "file_extension": ".py",
   "mimetype": "text/x-python",
   "name": "python",
   "nbconvert_exporter": "python",
   "pygments_lexer": "ipython3",
   "version": "3.13.1"
  }
 },
 "nbformat": 4,
 "nbformat_minor": 5
}
