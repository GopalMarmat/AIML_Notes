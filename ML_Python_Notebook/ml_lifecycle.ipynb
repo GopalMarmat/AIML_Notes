{
 "cells": [
  {
   "cell_type": "markdown",
   "id": "d9a1fe8f",
   "metadata": {},
   "source": [
    "## ML LifeCycle"
   ]
  },
  {
   "cell_type": "markdown",
   "id": "b5e62c1e",
   "metadata": {},
   "source": [
    "### Data Preprocessing:\n",
    "#### Clean the dataset using pandas and numpy like handling missing values and outliers."
   ]
  },
  {
   "cell_type": "code",
   "execution_count": null,
   "id": "110b6fa4",
   "metadata": {},
   "outputs": [],
   "source": []
  },
  {
   "cell_type": "markdown",
   "id": "f4c862c5",
   "metadata": {},
   "source": [
    "### Model Importing"
   ]
  },
  {
   "cell_type": "code",
   "execution_count": 1,
   "id": "d32ebc6c",
   "metadata": {},
   "outputs": [],
   "source": [
    "from sklearn.linear_model import LinearRegression, LogisticRegression\n",
    "from sklearn.tree import DecisionTreeClassifier, DecisionTreeRegressor\n",
    "from sklearn.ensemble import RandomForestClassifier, RandomForestRegressor, AdaBoostClassifier,AdaBoostRegressor,GradientBoostingClassifier,GradientBoostingRegressor\n",
    "from sklearn.svm import SVC,SVR\n",
    "from sklearn.neighbors import KNeighborsClassifier,KNeighborsRegressor"
   ]
  }
 ],
 "metadata": {
  "kernelspec": {
   "display_name": "Python 3",
   "language": "python",
   "name": "python3"
  },
  "language_info": {
   "codemirror_mode": {
    "name": "ipython",
    "version": 3
   },
   "file_extension": ".py",
   "mimetype": "text/x-python",
   "name": "python",
   "nbconvert_exporter": "python",
   "pygments_lexer": "ipython3",
   "version": "3.13.1"
  }
 },
 "nbformat": 4,
 "nbformat_minor": 5
}
