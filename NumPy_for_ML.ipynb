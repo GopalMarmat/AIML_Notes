{
 "cells": [
  {
   "cell_type": "markdown",
   "metadata": {},
   "source": [
    "# 🔢 NumPy for Machine Learning\n",
    "\n",
    "This notebook provides a deep dive into NumPy with focus on functions most useful for machine learning tasks."
   ]
  },
  {
   "cell_type": "markdown",
   "metadata": {},
   "source": [
    "## 1. Introduction to NumPy\n",
    "- Fast numerical operations\n",
    "- Efficient array computations\n",
    "- Backbone of ML libraries like Pandas, Scikit-learn, TensorFlow\n",
    "\n",
    "### Importing NumPy:"
   ]
  },
  {
   "cell_type": "code",
   "execution_count": 1,
   "metadata": {},
   "outputs": [],
   "source": [
    "import numpy as np"
   ]
  },
  {
   "cell_type": "markdown",
   "metadata": {},
   "source": [
    "## 2. Creating Arrays\n",
    "- `np.array()`\n",
    "- `np.zeros()`, `np.ones()`, `np.full()`\n",
    "- `np.arange()`, `np.linspace()`\n",
    "- `np.random.*`\n",
    "\n",
    "### Examples:"
   ]
  },
  {
   "cell_type": "code",
   "execution_count": 9,
   "metadata": {},
   "outputs": [
    {
     "data": {
      "text/plain": [
       "(array([1, 2, 3]),\n",
       " array([[0., 0., 0.],\n",
       "        [0., 0., 0.]]),\n",
       " array([[1., 1.],\n",
       "        [1., 1.],\n",
       "        [1., 1.]]),\n",
       " array([[7, 7],\n",
       "        [7, 7]]),\n",
       " array([0, 2, 4, 6, 8]),\n",
       " array([0.  , 0.25, 0.5 , 0.75, 1.  ]),\n",
       " array([[0.47724222, 0.61594705, 0.43170862],\n",
       "        [0.23002104, 0.53550454, 0.37658918]]))"
      ]
     },
     "execution_count": 9,
     "metadata": {},
     "output_type": "execute_result"
    }
   ],
   "source": [
    "a = np.array([1, 2, 3])\n",
    "b = np.zeros((2, 3))\n",
    "c = np.ones((3, 2))\n",
    "d = np.full((2, 2), 7)\n",
    "e = np.arange(0, 10, 2)\n",
    "f = np.linspace(0, 1, 5)\n",
    "g = np.random.rand(2, 3)\n",
    "a, b, c, d, e, f, g"
   ]
  },
  {
   "cell_type": "markdown",
   "metadata": {},
   "source": [
    "## 3. Array Attributes\n",
    "- `shape`, `ndim`, `dtype`, `size`"
   ]
  },
  {
   "cell_type": "code",
   "execution_count": 12,
   "metadata": {},
   "outputs": [
    {
     "name": "stdout",
     "output_type": "stream",
     "text": [
      "[[0 0 4 7]\n",
      " [2 7 8 4]\n",
      " [4 8 5 2]]\n"
     ]
    },
    {
     "data": {
      "text/plain": [
       "((3, 4), 2, dtype('int32'), 12)"
      ]
     },
     "execution_count": 12,
     "metadata": {},
     "output_type": "execute_result"
    }
   ],
   "source": [
    "arr = np.random.randint(0, 10, size=(3, 4))\n",
    "print(arr)\n",
    "arr.shape, arr.ndim, arr.dtype, arr.size"
   ]
  },
  {
   "cell_type": "markdown",
   "metadata": {},
   "source": [
    "## 4. Indexing and Slicing\n",
    "- Access elements and subarrays"
   ]
  },
  {
   "cell_type": "code",
   "execution_count": 13,
   "metadata": {},
   "outputs": [
    {
     "data": {
      "text/plain": [
       "(np.int64(6), array([2, 5]), array([1, 2]))"
      ]
     },
     "execution_count": 13,
     "metadata": {},
     "output_type": "execute_result"
    }
   ],
   "source": [
    "arr = np.array([[1, 2, 3], [4, 5, 6]])\n",
    "arr[1, 2], arr[:, 1], arr[0, :2]"
   ]
  },
  {
   "cell_type": "markdown",
   "metadata": {},
   "source": [
    "## 5. Array Operations\n",
    "- Arithmetic: `+`, `-`, `*`, `/`\n",
    "- Comparison: `>`, `<`, `==`\n",
    "- Logical: `np.any`, `np.all`\n",
    "- Broadcasting"
   ]
  },
  {
   "cell_type": "code",
   "execution_count": 17,
   "metadata": {},
   "outputs": [
    {
     "data": {
      "text/plain": [
       "(array([5, 7, 9]),\n",
       " array([ 8, 10, 12]),\n",
       " array([False,  True,  True]),\n",
       " np.True_,\n",
       " np.True_)"
      ]
     },
     "execution_count": 17,
     "metadata": {},
     "output_type": "execute_result"
    }
   ],
   "source": [
    "x = np.array([1, 2, 3])\n",
    "y = np.array([4, 5, 6])\n",
    "x + y, y * 2, x > 1, np.any(x > 2), np.all(x > 0)"
   ]
  },
  {
   "cell_type": "markdown",
   "metadata": {},
   "source": [
    "## 6. Aggregation Functions\n",
    "- `np.sum`, `np.mean`, `np.std`, `np.min`, `np.max`, `np.percentile`\n",
    "- Axis-based aggregation"
   ]
  },
  {
   "cell_type": "code",
   "execution_count": 20,
   "metadata": {},
   "outputs": [
    {
     "data": {
      "text/plain": [
       "(np.int64(21),\n",
       " array([2.5, 3.5, 4.5]),\n",
       " np.float64(1.707825127659933),\n",
       " np.float64(3.5))"
      ]
     },
     "execution_count": 20,
     "metadata": {},
     "output_type": "execute_result"
    }
   ],
   "source": [
    "data = np.array([[1, 2, 3], [4, 5, 6]])\n",
    "data.sum(), data.mean(axis=0), data.std(), np.percentile(data, 50)"
   ]
  },
  {
   "cell_type": "markdown",
   "metadata": {},
   "source": [
    "## 7. Reshaping and Stacking\n",
    "- `reshape`, `ravel`, `flatten`\n",
    "- `vstack`, `hstack`, `concatenate`"
   ]
  },
  {
   "cell_type": "code",
   "execution_count": null,
   "metadata": {},
   "outputs": [
    {
     "data": {
      "text/plain": [
       "(array([[1, 2],\n",
       "        [3, 4]]),\n",
       " array([1, 2, 3, 4]),\n",
       " array([1, 2, 3, 4]))"
      ]
     },
     "execution_count": 19,
     "metadata": {},
     "output_type": "execute_result"
    }
   ],
   "source": [
    "x = np.array([[1, 2], [3, 4]])\n",
    "y = np.reshape(x, (4,))\n",
    "a = np.array([1, 2])\n",
    "b = np.array([3, 4])\n",
    "np.vstack((a, b)), np.hstack((a, b)), y"
   ]
  },
  {
   "cell_type": "markdown",
   "metadata": {},
   "source": [
    "## 8. Linear Algebra (Used in ML)\n",
    "- `dot`, `matmul`, `transpose`, `inv`, `det`, `eig`\n",
    "- Solving equations: `np.linalg.solve()`"
   ]
  },
  {
   "cell_type": "code",
   "execution_count": 21,
   "metadata": {},
   "outputs": [
    {
     "data": {
      "text/plain": [
       "array([2.2, 3.6])"
      ]
     },
     "execution_count": 21,
     "metadata": {},
     "output_type": "execute_result"
    }
   ],
   "source": [
    "A = np.array([[2, 1], [1, 3]])\n",
    "B = np.array([8, 13])\n",
    "x = np.linalg.solve(A, B)\n",
    "x"
   ]
  },
  {
   "cell_type": "markdown",
   "metadata": {},
   "source": [
    "## 9. Random Module\n",
    "- `rand`, `randn`, `randint`, `shuffle`, `choice`, `seed`"
   ]
  },
  {
   "cell_type": "code",
   "execution_count": 22,
   "metadata": {},
   "outputs": [
    {
     "data": {
      "text/plain": [
       "(array([0.37454012, 0.95071431, 0.73199394]),\n",
       " array([4, 6, 9, 2, 6], dtype=int32),\n",
       " array([30, 30]))"
      ]
     },
     "execution_count": 22,
     "metadata": {},
     "output_type": "execute_result"
    }
   ],
   "source": [
    "np.random.seed(42)\n",
    "np.random.rand(3), np.random.randint(0, 10, 5), np.random.choice([10, 20, 30], 2)"
   ]
  }
 ],
 "metadata": {
  "kernelspec": {
   "display_name": "Python 3",
   "language": "python",
   "name": "python3"
  },
  "language_info": {
   "codemirror_mode": {
    "name": "ipython",
    "version": 3
   },
   "file_extension": ".py",
   "mimetype": "text/x-python",
   "name": "python",
   "nbconvert_exporter": "python",
   "pygments_lexer": "ipython3",
   "version": "3.13.1"
  }
 },
 "nbformat": 4,
 "nbformat_minor": 5
}
