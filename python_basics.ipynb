{
 "cells": [
  {
   "cell_type": "markdown",
   "metadata": {},
   "source": [
    "# Python Programming: Basic to Intermediate Concepts\n",
    "This notebook covers core Python programming concepts from variables and data types to file handling and exception management with explanations and examples."
   ]
  },
  {
   "cell_type": "markdown",
   "metadata": {},
   "source": [
    "## 1. Variables and Data Types\n",
    "Variables are containers for storing data values. Python has various data types including integers, floats, strings, and booleans."
   ]
  },
  {
   "cell_type": "code",
   "execution_count": null,
   "metadata": {},
   "outputs": [],
   "source": [
    "x = 10            # Integer\n",
    "pi = 3.14         # Float\n",
    "name = \"Alice\"    # String\n",
    "is_active = True  # Boolean\n",
    "print(x, pi, name, is_active)"
   ]
  },
  {
   "cell_type": "markdown",
   "metadata": {},
   "source": [
    "## 2. Type Casting\n",
    "Convert from one data type to another using built-in functions like `int()`, `float()`, `str()`."
   ]
  },
  {
   "cell_type": "code",
   "execution_count": 3,
   "metadata": {},
   "outputs": [
    {
     "name": "stdout",
     "output_type": "stream",
     "text": [
      "15\n"
     ]
    }
   ],
   "source": [
    "a = \"5\"\n",
    "b = int(a) + 10\n",
    "print(b)"
   ]
  },
  {
   "cell_type": "markdown",
   "metadata": {},
   "source": [
    "## 3. Conditional Statements (if, elif, else)\n",
    "Use conditions to control the flow of code execution."
   ]
  },
  {
   "cell_type": "code",
   "execution_count": null,
   "metadata": {},
   "outputs": [],
   "source": [
    "age = 18\n",
    "if age > 18:\n",
    "    print(\"You are an adult.\")\n",
    "elif age==18:\n",
    "    print(\"You are 18\")\n",
    "else:\n",
    "    print(\"You are a minor.\")"
   ]
  },
  {
   "cell_type": "markdown",
   "metadata": {},
   "source": [
    "## 4. Loops (for and while)\n",
    "`for` is used for iteration over a sequence, while `while` runs as long as a condition is true."
   ]
  },
  {
   "cell_type": "code",
   "execution_count": null,
   "metadata": {},
   "outputs": [],
   "source": [
    "# For loop\n",
    "for i in range(3):\n",
    "    print(\"For loop iteration:\", i)\n",
    "\n",
    "# While loop\n",
    "i = 0\n",
    "while i < 3:\n",
    "    print(\"While loop iteration:\", i)\n",
    "    i += 1"
   ]
  },
  {
   "cell_type": "markdown",
   "metadata": {},
   "source": [
    "## 5. Data Structures: List, Tuple, Set, Dictionary\n",
    "Python provides several built-in data types that are used to store collections of data."
   ]
  },
  {
   "cell_type": "code",
   "execution_count": 4,
   "metadata": {},
   "outputs": [
    {
     "name": "stdout",
     "output_type": "stream",
     "text": [
      "['apple', 'banana', 'cherry'] (10, 20) {1, 2, 3} {'name': 'Alice', 'age': 25}\n"
     ]
    }
   ],
   "source": [
    "# List\n",
    "fruits = [\"apple\", \"banana\", \"cherry\"]\n",
    "# Tuple\n",
    "coordinates = (10, 20)\n",
    "# Set\n",
    "unique_numbers = {1, 2, 3}\n",
    "# Dictionary\n",
    "person = {\"name\": \"Alice\", \"age\": 25}\n",
    "print(fruits, coordinates, unique_numbers, person)"
   ]
  },
  {
   "cell_type": "markdown",
   "metadata": {},
   "source": [
    "## 6. Functions and Lambda\n",
    "Functions allow you to reuse blocks of code. Lambda functions are small anonymous functions."
   ]
  },
  {
   "cell_type": "code",
   "execution_count": null,
   "metadata": {},
   "outputs": [],
   "source": [
    "def greet(name):\n",
    "    return f\"Hello {name}\"\n",
    "\n",
    "print(greet(\"Bob\"))\n",
    "\n",
    "# Lambda function\n",
    "square = lambda x: x * x\n",
    "print(square(4))"
   ]
  },
  {
   "cell_type": "markdown",
   "id": "e85b5a31",
   "metadata": {},
   "source": [
    "## Generator"
   ]
  },
  {
   "cell_type": "code",
   "execution_count": null,
   "id": "e143ffa5",
   "metadata": {},
   "outputs": [],
   "source": [
    "def gen_fun():\n",
    "    yield"
   ]
  },
  {
   "cell_type": "markdown",
   "id": "eb280874",
   "metadata": {},
   "source": [
    "## Iterator\n",
    "Iterator is used to iterate the iterable object like string, list, tuple etc..."
   ]
  },
  {
   "cell_type": "code",
   "execution_count": null,
   "id": "f19792e1",
   "metadata": {},
   "outputs": [],
   "source": [
    "list1=[\"apple\", \"banana\", \"cherry\"]\n",
    "list1.__iter__()\n",
    "next"
   ]
  },
  {
   "cell_type": "markdown",
   "metadata": {},
   "source": [
    "## 7. Object-Oriented Programming (OOP)\n",
    "OOP in Python is implemented using classes and objects. You can define properties and behaviors using methods."
   ]
  },
  {
   "cell_type": "code",
   "execution_count": null,
   "metadata": {},
   "outputs": [],
   "source": [
    "class Dog:\n",
    "    def __init__(self, name):\n",
    "        self.name = name\n",
    "\n",
    "    def bark(self):\n",
    "        return f\"{self.name} says Woof!\"\n",
    "\n",
    "my_dog = Dog(\"Buddy\")\n",
    "print(my_dog.bark())"
   ]
  },
  {
   "cell_type": "markdown",
   "metadata": {},
   "source": [
    "## 8. Exception Handling\n",
    "Exceptions are errors detected during execution. Use `try`, `except`, `finally` to handle them gracefully."
   ]
  },
  {
   "cell_type": "code",
   "execution_count": null,
   "metadata": {},
   "outputs": [],
   "source": [
    "try:\n",
    "    result = 10 / 0\n",
    "except ZeroDivisionError as e:\n",
    "    print(\"Error:\", e)\n",
    "finally:\n",
    "    print(\"This block always runs\")"
   ]
  },
  {
   "cell_type": "markdown",
   "metadata": {},
   "source": [
    "## 9. File Handling\n",
    "Python allows you to read from and write to files using the `open()` function."
   ]
  },
  {
   "cell_type": "code",
   "execution_count": null,
   "metadata": {},
   "outputs": [],
   "source": [
    "# Writing to a file\n",
    "with open(\"example.txt\", \"w\") as f:\n",
    "    f.write(\"This is a test file.\")\n",
    "\n",
    "# Reading from the file\n",
    "with open(\"example.txt\", \"r\") as f:\n",
    "    content = f.read()\n",
    "    print(content)"
   ]
  },
  {
   "cell_type": "markdown",
   "id": "cf4073ce",
   "metadata": {},
   "source": [
    "Python File Creation"
   ]
  },
  {
   "cell_type": "code",
   "execution_count": 2,
   "id": "74efceb5",
   "metadata": {},
   "outputs": [
    {
     "data": {
      "text/plain": [
       "'python_basics_with_examples.ipynb'"
      ]
     },
     "execution_count": 2,
     "metadata": {},
     "output_type": "execute_result"
    }
   ],
   "source": [
    "# Create the content of a new Jupyter notebook covering Python concepts (1 to 9) with explanations and examples\n",
    "python_basic_notebook_content = {\n",
    " \"cells\": [\n",
    "  {\n",
    "   \"cell_type\": \"markdown\",\n",
    "   \"metadata\": {},\n",
    "   \"source\": [\n",
    "    \"# Python Programming: Basic to Intermediate Concepts\\n\",\n",
    "    \"This notebook covers core Python programming concepts from variables and data types to file handling and exception management with explanations and examples.\"\n",
    "   ]\n",
    "  },\n",
    "  {\n",
    "   \"cell_type\": \"markdown\",\n",
    "   \"metadata\": {},\n",
    "   \"source\": [\"## 1. Variables and Data Types\\n\",\n",
    "              \"Variables are containers for storing data values. Python has various data types including integers, floats, strings, and booleans.\"]\n",
    "  },\n",
    "  {\n",
    "   \"cell_type\": \"code\",\n",
    "   \"execution_count\": None,\n",
    "   \"metadata\": {},\n",
    "   \"outputs\": [],\n",
    "   \"source\": [\n",
    "    \"x = 10            # Integer\\n\",\n",
    "    \"pi = 3.14         # Float\\n\",\n",
    "    \"name = \\\"Alice\\\"    # String\\n\",\n",
    "    \"is_active = True  # Boolean\\n\",\n",
    "    \"print(x, pi, name, is_active)\"\n",
    "   ]\n",
    "  },\n",
    "  {\n",
    "   \"cell_type\": \"markdown\",\n",
    "   \"metadata\": {},\n",
    "   \"source\": [\"## 2. Type Casting\\n\",\n",
    "              \"Convert from one data type to another using built-in functions like `int()`, `float()`, `str()`.\"]\n",
    "  },\n",
    "  {\n",
    "   \"cell_type\": \"code\",\n",
    "   \"execution_count\": None,\n",
    "   \"metadata\": {},\n",
    "   \"outputs\": [],\n",
    "   \"source\": [\n",
    "    \"a = \\\"5\\\"\\n\",\n",
    "    \"b = int(a) + 10\\n\",\n",
    "    \"print(b)\"\n",
    "   ]\n",
    "  },\n",
    "  {\n",
    "   \"cell_type\": \"markdown\",\n",
    "   \"metadata\": {},\n",
    "   \"source\": [\"## 3. Conditional Statements (if, elif, else)\\n\",\n",
    "              \"Use conditions to control the flow of code execution.\"]\n",
    "  },\n",
    "  {\n",
    "   \"cell_type\": \"code\",\n",
    "   \"execution_count\": None,\n",
    "   \"metadata\": {},\n",
    "   \"outputs\": [],\n",
    "   \"source\": [\n",
    "    \"age = 18\\n\",\n",
    "    \"if age >= 18:\\n\",\n",
    "    \"    print(\\\"You are an adult.\\\")\\n\",\n",
    "    \"else:\\n\",\n",
    "    \"    print(\\\"You are a minor.\\\")\"\n",
    "   ]\n",
    "  },\n",
    "  {\n",
    "   \"cell_type\": \"markdown\",\n",
    "   \"metadata\": {},\n",
    "   \"source\": [\"## 4. Loops (for and while)\\n\",\n",
    "              \"`for` is used for iteration over a sequence, while `while` runs as long as a condition is true.\"]\n",
    "  },\n",
    "  {\n",
    "   \"cell_type\": \"code\",\n",
    "   \"execution_count\": None,\n",
    "   \"metadata\": {},\n",
    "   \"outputs\": [],\n",
    "   \"source\": [\n",
    "    \"# For loop\\n\",\n",
    "    \"for i in range(3):\\n\",\n",
    "    \"    print(\\\"For loop iteration:\\\", i)\\n\",\n",
    "    \"\\n\",\n",
    "    \"# While loop\\n\",\n",
    "    \"i = 0\\n\",\n",
    "    \"while i < 3:\\n\",\n",
    "    \"    print(\\\"While loop iteration:\\\", i)\\n\",\n",
    "    \"    i += 1\"\n",
    "   ]\n",
    "  },\n",
    "  {\n",
    "   \"cell_type\": \"markdown\",\n",
    "   \"metadata\": {},\n",
    "   \"source\": [\"## 5. Data Structures: List, Tuple, Set, Dictionary\\n\",\n",
    "              \"Python provides several built-in data types that are used to store collections of data.\"]\n",
    "  },\n",
    "  {\n",
    "   \"cell_type\": \"code\",\n",
    "   \"execution_count\": None,\n",
    "   \"metadata\": {},\n",
    "   \"outputs\": [],\n",
    "   \"source\": [\n",
    "    \"# List\\n\",\n",
    "    \"fruits = [\\\"apple\\\", \\\"banana\\\", \\\"cherry\\\"]\\n\",\n",
    "    \"# Tuple\\n\",\n",
    "    \"coordinates = (10, 20)\\n\",\n",
    "    \"# Set\\n\",\n",
    "    \"unique_numbers = {1, 2, 3}\\n\",\n",
    "    \"# Dictionary\\n\",\n",
    "    \"person = {\\\"name\\\": \\\"Alice\\\", \\\"age\\\": 25}\\n\",\n",
    "    \"print(fruits, coordinates, unique_numbers, person)\"\n",
    "   ]\n",
    "  },\n",
    "  {\n",
    "   \"cell_type\": \"markdown\",\n",
    "   \"metadata\": {},\n",
    "   \"source\": [\"## 6. Functions and Lambda\\n\",\n",
    "              \"Functions allow you to reuse blocks of code. Lambda functions are small anonymous functions.\"]\n",
    "  },\n",
    "  {\n",
    "   \"cell_type\": \"code\",\n",
    "   \"execution_count\": None,\n",
    "   \"metadata\": {},\n",
    "   \"outputs\": [],\n",
    "   \"source\": [\n",
    "    \"def greet(name):\\n\",\n",
    "    \"    return f\\\"Hello {name}\\\"\\n\",\n",
    "    \"\\n\",\n",
    "    \"print(greet(\\\"Bob\\\"))\\n\",\n",
    "    \"\\n\",\n",
    "    \"# Lambda function\\n\",\n",
    "    \"square = lambda x: x * x\\n\",\n",
    "    \"print(square(4))\"\n",
    "   ]\n",
    "  },\n",
    "  {\n",
    "   \"cell_type\": \"markdown\",\n",
    "   \"metadata\": {},\n",
    "   \"source\": [\"## 7. Object-Oriented Programming (OOP)\\n\",\n",
    "              \"OOP in Python is implemented using classes and objects. You can define properties and behaviors using methods.\"]\n",
    "  },\n",
    "  {\n",
    "   \"cell_type\": \"code\",\n",
    "   \"execution_count\": None,\n",
    "   \"metadata\": {},\n",
    "   \"outputs\": [],\n",
    "   \"source\": [\n",
    "    \"class Dog:\\n\",\n",
    "    \"    def __init__(self, name):\\n\",\n",
    "    \"        self.name = name\\n\",\n",
    "    \"\\n\",\n",
    "    \"    def bark(self):\\n\",\n",
    "    \"        return f\\\"{self.name} says Woof!\\\"\\n\",\n",
    "    \"\\n\",\n",
    "    \"my_dog = Dog(\\\"Buddy\\\")\\n\",\n",
    "    \"print(my_dog.bark())\"\n",
    "   ]\n",
    "  },\n",
    "  {\n",
    "   \"cell_type\": \"markdown\",\n",
    "   \"metadata\": {},\n",
    "   \"source\": [\"## 8. Exception Handling\\n\",\n",
    "              \"Exceptions are errors detected during execution. Use `try`, `except`, `finally` to handle them gracefully.\"]\n",
    "  },\n",
    "  {\n",
    "   \"cell_type\": \"code\",\n",
    "   \"execution_count\": None,\n",
    "   \"metadata\": {},\n",
    "   \"outputs\": [],\n",
    "   \"source\": [\n",
    "    \"try:\\n\",\n",
    "    \"    result = 10 / 0\\n\",\n",
    "    \"except ZeroDivisionError as e:\\n\",\n",
    "    \"    print(\\\"Error:\\\", e)\\n\",\n",
    "    \"finally:\\n\",\n",
    "    \"    print(\\\"This block always runs\\\")\"\n",
    "   ]\n",
    "  },\n",
    "  {\n",
    "   \"cell_type\": \"markdown\",\n",
    "   \"metadata\": {},\n",
    "   \"source\": [\"## 9. File Handling\\n\",\n",
    "              \"Python allows you to read from and write to files using the `open()` function.\"]\n",
    "  },\n",
    "  {\n",
    "   \"cell_type\": \"code\",\n",
    "   \"execution_count\": None,\n",
    "   \"metadata\": {},\n",
    "   \"outputs\": [],\n",
    "   \"source\": [\n",
    "    \"# Writing to a file\\n\",\n",
    "    \"with open(\\\"example.txt\\\", \\\"w\\\") as f:\\n\",\n",
    "    \"    f.write(\\\"This is a test file.\\\")\\n\",\n",
    "    \"\\n\",\n",
    "    \"# Reading from the file\\n\",\n",
    "    \"with open(\\\"example.txt\\\", \\\"r\\\") as f:\\n\",\n",
    "    \"    content = f.read()\\n\",\n",
    "    \"    print(content)\"\n",
    "   ]\n",
    "  }\n",
    " ],\n",
    " \"metadata\": {\n",
    "  \"kernelspec\": {\n",
    "   \"display_name\": \"Python 3\",\n",
    "   \"language\": \"python\",\n",
    "   \"name\": \"python3\"\n",
    "  },\n",
    "  \"language_info\": {\n",
    "   \"name\": \"python\",\n",
    "   \"version\": \"3.11\"\n",
    "  }\n",
    " },\n",
    " \"nbformat\": 4,\n",
    " \"nbformat_minor\": 5\n",
    "}\n",
    "\n",
    "# Save the notebook\n",
    "python_basic_notebook_path = \"python_basics_with_examples.ipynb\"\n",
    "import json\n",
    "with open(python_basic_notebook_path, \"w\") as f:\n",
    "    json.dump(python_basic_notebook_content, f)\n",
    "\n",
    "python_basic_notebook_path\n"
   ]
  }
 ],
 "metadata": {
  "kernelspec": {
   "display_name": "Python 3",
   "language": "python",
   "name": "python3"
  },
  "language_info": {
   "codemirror_mode": {
    "name": "ipython",
    "version": 3
   },
   "file_extension": ".py",
   "mimetype": "text/x-python",
   "name": "python",
   "nbconvert_exporter": "python",
   "pygments_lexer": "ipython3",
   "version": "3.13.1"
  }
 },
 "nbformat": 4,
 "nbformat_minor": 5
}
